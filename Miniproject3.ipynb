{
  "nbformat": 4,
  "nbformat_minor": 0,
  "metadata": {
    "colab": {
      "provenance": [],
      "authorship_tag": "ABX9TyPwKyhAjVmN9MqvV8DRSE6Q",
      "include_colab_link": true
    },
    "kernelspec": {
      "name": "python3",
      "display_name": "Python 3"
    },
    "language_info": {
      "name": "python"
    }
  },
  "cells": [
    {
      "cell_type": "markdown",
      "metadata": {
        "id": "view-in-github",
        "colab_type": "text"
      },
      "source": [
        "<a href=\"https://colab.research.google.com/github/Athena2262/Adroidconnectz-Textfile-conversion/blob/main/Miniproject3.ipynb\" target=\"_parent\"><img src=\"https://colab.research.google.com/assets/colab-badge.svg\" alt=\"Open In Colab\"/></a>"
      ]
    },
    {
      "cell_type": "markdown",
      "source": [
        "TEXTFILE CONVERSION"
      ],
      "metadata": {
        "id": "aBcV066Nu5WV"
      }
    },
    {
      "cell_type": "code",
      "source": [
        "def convert_file(input_file, output_file):\n",
        "    try:\n",
        "        with open(input_file, 'r') as f_input:\n",
        "            contents = f_input.read()\n",
        "\n",
        "        converted_contents = contents.upper()\n",
        "\n",
        "        with open(output_file, 'w') as f_output:\n",
        "            f_output.write(converted_contents)\n",
        "\n",
        "        print(\"File conversion successful.\")\n",
        "    except IOError:\n",
        "        print(\"An error occurred during file conversion.\")\n",
        "\n",
        "# Test the function\n",
        "input_file_path = \"/content/input.txt\"  # Specify the path to your input file\n",
        "output_file_path = \"/content/output.txt\"  # Specify the path to your output file\n",
        "\n",
        "convert_file(input_file_path, output_file_path)\n"
      ],
      "metadata": {
        "colab": {
          "base_uri": "https://localhost:8080/"
        },
        "id": "bJY26GK_vBYm",
        "outputId": "e79a5d59-7b8c-4fd4-cb89-d3b424b4258c"
      },
      "execution_count": null,
      "outputs": [
        {
          "output_type": "stream",
          "name": "stdout",
          "text": [
            "File conversion successful.\n"
          ]
        }
      ]
    }
  ]
}